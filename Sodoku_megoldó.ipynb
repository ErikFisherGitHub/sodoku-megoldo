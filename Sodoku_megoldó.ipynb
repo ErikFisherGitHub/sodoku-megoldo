{
  "nbformat": 4,
  "nbformat_minor": 0,
  "metadata": {
    "colab": {
      "provenance": [],
      "authorship_tag": "ABX9TyPBywGiJ0EQ8IHvQOXwL0Fs",
      "include_colab_link": true
    },
    "kernelspec": {
      "name": "python3",
      "display_name": "Python 3"
    },
    "language_info": {
      "name": "python"
    }
  },
  "cells": [
    {
      "cell_type": "markdown",
      "metadata": {
        "id": "view-in-github",
        "colab_type": "text"
      },
      "source": [
        "<a href=\"https://colab.research.google.com/github/ErikFisherGitHub/sodoku-megoldo/blob/main/Sodoku_megold%C3%B3.ipynb\" target=\"_parent\"><img src=\"https://colab.research.google.com/assets/colab-badge.svg\" alt=\"Open In Colab\"/></a>"
      ]
    },
    {
      "cell_type": "code",
      "execution_count": null,
      "metadata": {
        "colab": {
          "base_uri": "https://localhost:8080/"
        },
        "id": "W3AuryDFKfuS",
        "outputId": "9709e050-75c8-418a-db23-a6d01b230edd"
      },
      "outputs": [
        {
          "output_type": "stream",
          "name": "stdout",
          "text": [
            "Eredeti Sudoku tábla:\n",
            "5 3 0 | 0 7 0 | 0 0 0\n",
            "6 0 0 | 1 9 5 | 0 0 0\n",
            "0 9 8 | 0 0 0 | 0 6 0\n",
            "- - - - - - - - - - - -\n",
            "8 0 0 | 0 6 0 | 0 0 3\n",
            "4 0 0 | 8 0 3 | 0 0 1\n",
            "7 0 0 | 0 2 0 | 0 0 6\n",
            "- - - - - - - - - - - -\n",
            "0 6 0 | 0 0 0 | 2 8 0\n",
            "0 0 0 | 4 1 9 | 0 0 5\n",
            "0 0 0 | 0 8 0 | 0 7 9\n",
            "\n",
            "Megoldott Sudoku tábla:\n",
            "5 3 4 | 6 7 8 | 9 1 2\n",
            "6 7 2 | 1 9 5 | 3 4 8\n",
            "1 9 8 | 3 4 2 | 5 6 7\n",
            "- - - - - - - - - - - -\n",
            "8 5 9 | 7 6 1 | 4 2 3\n",
            "4 2 6 | 8 5 3 | 7 9 1\n",
            "7 1 3 | 9 2 4 | 8 5 6\n",
            "- - - - - - - - - - - -\n",
            "9 6 1 | 5 3 7 | 2 8 4\n",
            "2 8 7 | 4 1 9 | 6 3 5\n",
            "3 4 5 | 2 8 6 | 1 7 9\n"
          ]
        }
      ],
      "source": [
        "def print_board(board):\n",
        "    for i in range(9):\n",
        "        if i % 3 == 0 and i != 0:\n",
        "            print(\"- - - - - - - - - - - -\")\n",
        "\n",
        "        for j in range(9):\n",
        "            if j % 3 == 0 and j != 0:\n",
        "                print(\"|\", end=\" \")\n",
        "\n",
        "            if j == 8:\n",
        "                print(board[i][j])\n",
        "            else:\n",
        "                print(str(board[i][j]) + \" \", end=\"\")\n",
        "\n",
        "def find_empty(board):\n",
        "    for i in range(9):\n",
        "        for j in range(9):\n",
        "            if board[i][j] == 0:\n",
        "                return (i, j)\n",
        "    return None\n",
        "\n",
        "def is_valid(board, num, pos):\n",
        "    # Check row\n",
        "    for i in range(9):\n",
        "        if board[pos[0]][i] == num and pos[1] != i:\n",
        "            return False\n",
        "\n",
        "    # Check column\n",
        "    for i in range(9):\n",
        "        if board[i][pos[1]] == num and pos[0] != i:\n",
        "            return False\n",
        "\n",
        "    # Check 3x3 box\n",
        "    box_x = pos[1] // 3\n",
        "    box_y = pos[0] // 3\n",
        "\n",
        "    for i in range(box_y * 3, box_y * 3 + 3):\n",
        "        for j in range(box_x * 3, box_x * 3 + 3):\n",
        "            if board[i][j] == num and (i, j) != pos:\n",
        "                return False\n",
        "\n",
        "    return True\n",
        "\n",
        "def solve(board):\n",
        "    find = find_empty(board)\n",
        "    if not find:\n",
        "        return True\n",
        "    else:\n",
        "        row, col = find\n",
        "\n",
        "    for i in range(1, 10):\n",
        "        if is_valid(board, i, (row, col)):\n",
        "            board[row][col] = i\n",
        "\n",
        "            if solve(board):\n",
        "                return True\n",
        "\n",
        "            board[row][col] = 0\n",
        "\n",
        "    return False\n",
        "\n",
        "# Teszteset\n",
        "# A Sudoku tábla üres helyei nullával vannak jelölve\n",
        "board = [\n",
        "    [5, 3, 0, 0, 7, 0, 0, 0, 0],\n",
        "    [6, 0, 0, 1, 9, 5, 0, 0, 0],\n",
        "    [0, 9, 8, 0, 0, 0, 0, 6, 0],\n",
        "    [8, 0, 0, 0, 6, 0, 0, 0, 3],\n",
        "    [4, 0, 0, 8, 0, 3, 0, 0, 1],\n",
        "    [7, 0, 0, 0, 2, 0, 0, 0, 6],\n",
        "    [0, 6, 0, 0, 0, 0, 2, 8, 0],\n",
        "    [0, 0, 0, 4, 1, 9, 0, 0, 5],\n",
        "    [0, 0, 0, 0, 8, 0, 0, 7, 9]\n",
        "]\n",
        "\n",
        "print(\"Eredeti Sudoku tábla:\")\n",
        "print_board(board)\n",
        "print(\"\\nMegoldott Sudoku tábla:\")\n",
        "solve(board)\n",
        "print_board(board)\n"
      ]
    }
  ]
}